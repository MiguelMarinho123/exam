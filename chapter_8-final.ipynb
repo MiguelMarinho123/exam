{
 "cells": [
  {
   "cell_type": "markdown",
   "metadata": {},
   "source": [
    "# Introduction to Programming\n",
    "## Foundations - Chapter 8\n",
    "\n",
    "- [Modules](#docstrings)\n",
    "\n",
    "- [Built-in modules](#builtin)\n",
    "\n",
    "    - [OS](#OS)\n",
    "    \n",
    "    - [sys](#sys)\n",
    "    \n",
    "    - [collections](#collections)\n",
    "\n",
    "    - [math](#math)\n",
    "\n",
    "    - [statistics](#statistics)\n",
    "\n",
    "    - [random](#random)\n",
    "\n",
    "    - [datetime](#datetime)\n",
    "\n",
    "---"
   ]
  },
  {
   "cell_type": "markdown",
   "metadata": {},
   "source": [
    "<a id=\"modules\"></a>\n",
    "### Modules"
   ]
  },
  {
   "cell_type": "markdown",
   "metadata": {},
   "source": [
    "What is a Module?\n",
    "Consider a module to be the same as a code library.\n",
    "In practical terms, it is simply a Python script containing a set of objects (classes, functions, and possibly variables) you want to include in your application.\n",
    "\n",
    "To create a module you need to create a Python script, i.e. a `.py` file, and in this file you will write down all the components that will make up your module.\n",
    "\n",
    "Example: create a script `mymodule.py` to include a variable, a function, and an class."
   ]
  },
  {
   "cell_type": "code",
   "execution_count": null,
   "metadata": {},
   "outputs": [],
   "source": []
  },
  {
   "cell_type": "markdown",
   "metadata": {},
   "source": [
    "Then, to include the objects you have defined in the script `mymodule.py` into your application, you can just load them using the keyword `import` followed by the name of the script without the `.py` extension.\n",
    "The general sintax to load a script is:\n",
    "```\n",
    "`import <name of the module script without extension .py>`\n",
    "```"
   ]
  },
  {
   "cell_type": "markdown",
   "metadata": {},
   "source": [
    "Example: import your module `mymodule.py`."
   ]
  },
  {
   "cell_type": "code",
   "execution_count": 1,
   "metadata": {},
   "outputs": [],
   "source": [
    "import mymodule"
   ]
  },
  {
   "cell_type": "markdown",
   "metadata": {},
   "source": [
    "In order for `import` to work, the script you are importing needs to be in the same folder as the application that is calling it."
   ]
  },
  {
   "cell_type": "markdown",
   "metadata": {},
   "source": [
    "Once you have imported your module, all the objects defined in it become available in your current application using the `.` syntax as follows:\n",
    "```\n",
    "<module name>.<object in the module>\n",
    "```\n",
    "and you might need to use parentheses after the object name if your are calling a function or a class.\n",
    "\n",
    "To have an overview of the components in a module, you can use the `dir()` function, which returns a list of all the objects defined in the module.\n",
    "Alternatively, you can use tab-completion after typing `<module name>.`: `<module name>.` + Tab."
   ]
  },
  {
   "cell_type": "markdown",
   "metadata": {},
   "source": [
    "Example:`mymodule.py` contains a variable, a function, and a class (an object template). Explore the module using `dir()`. Print the varible. Run the function. Create an object using the class and run the only available method."
   ]
  },
  {
   "cell_type": "code",
   "execution_count": 2,
   "metadata": {},
   "outputs": [
    {
     "name": "stdout",
     "output_type": "stream",
     "text": [
      "['SomeClass', '__builtins__', '__cached__', '__doc__', '__file__', '__loader__', '__name__', '__package__', '__spec__', 'some_function', 'some_variable']\n"
     ]
    }
   ],
   "source": [
    "print(dir(mymodule))"
   ]
  },
  {
   "cell_type": "code",
   "execution_count": 3,
   "metadata": {},
   "outputs": [
    {
     "name": "stdout",
     "output_type": "stream",
     "text": [
      "[1, 2, 3]\n"
     ]
    }
   ],
   "source": [
    "print(mymodule.some_variable)"
   ]
  },
  {
   "cell_type": "code",
   "execution_count": 4,
   "metadata": {},
   "outputs": [
    {
     "name": "stdout",
     "output_type": "stream",
     "text": [
      "this is the function in mymodule\n"
     ]
    }
   ],
   "source": [
    "mymodule.some_function()"
   ]
  },
  {
   "cell_type": "code",
   "execution_count": 5,
   "metadata": {},
   "outputs": [],
   "source": [
    "myobject = mymodule.SomeClass()"
   ]
  },
  {
   "cell_type": "code",
   "execution_count": 6,
   "metadata": {},
   "outputs": [
    {
     "name": "stdout",
     "output_type": "stream",
     "text": [
      "this is the method in SomeClass in mymodule\n"
     ]
    }
   ],
   "source": [
    "myobject.some_method()"
   ]
  },
  {
   "cell_type": "code",
   "execution_count": null,
   "metadata": {},
   "outputs": [],
   "source": []
  },
  {
   "cell_type": "markdown",
   "metadata": {},
   "source": [
    "Generally speaking, when using `import` there is no syntactic difference between loading a module and executing any generic Python script from within an application.\n",
    "\n",
    "By convention, a module contains only definitions and does not contain any actions, so that when you import it additional objects and classes are created, but nothing is run.\n",
    "\n",
    "However, if a script contains any commands to be run, these commands will be run when you use the `import` keyword."
   ]
  },
  {
   "cell_type": "markdown",
   "metadata": {},
   "source": [
    "Example: add a simple action to `mymodule.py` (for instance, a `for` loop that prints some values) and import it again. "
   ]
  },
  {
   "cell_type": "code",
   "execution_count": 1,
   "metadata": {},
   "outputs": [
    {
     "name": "stdout",
     "output_type": "stream",
     "text": [
      "0\n",
      "1\n",
      "2\n",
      "3\n",
      "4\n",
      "5\n",
      "6\n",
      "7\n",
      "8\n",
      "9\n"
     ]
    }
   ],
   "source": [
    "import mymodule"
   ]
  },
  {
   "cell_type": "markdown",
   "metadata": {},
   "source": [
    "While you should stick to the convention of only including definitions when defining a module, you can also use the `import` functionality to split your workflow into multiple regular Python scripts to be loaded one after the other.\n",
    "For instance, you could have one script for loading data, a second script for cleaning, a third for model estimation, and finally one for visualization.\n",
    "\n",
    "As we said, a file containing a module or a file containing a general script have no formal differences: they are both `.py` files. \n",
    "What makes them a module or a regular script is just a matter of convention."
   ]
  },
  {
   "cell_type": "markdown",
   "metadata": {},
   "source": [
    "Using `import` is a convenient way to start your script for assignment 4.\n",
    "Make sure that CodeMaker.py is in the same directory as the script or Jupyter notebook where you are building your solution."
   ]
  },
  {
   "cell_type": "code",
   "execution_count": 2,
   "metadata": {},
   "outputs": [],
   "source": [
    "import CodeMaker"
   ]
  },
  {
   "cell_type": "code",
   "execution_count": 3,
   "metadata": {},
   "outputs": [
    {
     "data": {
      "text/plain": [
       "['partial', 'wrong', 'partial', 'partial']"
      ]
     },
     "execution_count": 3,
     "metadata": {},
     "output_type": "execute_result"
    }
   ],
   "source": [
    "CodeMaker.code_maker.respond([1,2,3,4])"
   ]
  },
  {
   "cell_type": "code",
   "execution_count": 4,
   "metadata": {},
   "outputs": [
    {
     "data": {
      "text/plain": [
       "['partial', 'wrong', 'partial', 'partial']"
      ]
     },
     "execution_count": 4,
     "metadata": {},
     "output_type": "execute_result"
    }
   ],
   "source": [
    "CodeMaker.code_maker.get_last_response()"
   ]
  },
  {
   "cell_type": "code",
   "execution_count": 5,
   "metadata": {},
   "outputs": [
    {
     "data": {
      "text/plain": [
       "[['partial', 'wrong', 'partial', 'partial']]"
      ]
     },
     "execution_count": 5,
     "metadata": {},
     "output_type": "execute_result"
    }
   ],
   "source": [
    "CodeMaker.code_maker.get_all_responses()"
   ]
  },
  {
   "cell_type": "code",
   "execution_count": 6,
   "metadata": {},
   "outputs": [
    {
     "data": {
      "text/plain": [
       "['partial', 'partial', 'partial', 'partial']"
      ]
     },
     "execution_count": 6,
     "metadata": {},
     "output_type": "execute_result"
    }
   ],
   "source": [
    "CodeMaker.code_maker.find_matches([3,4,2,1], [1,2,3,4])"
   ]
  },
  {
   "cell_type": "markdown",
   "metadata": {},
   "source": [
    "#### Nested modules"
   ]
  },
  {
   "cell_type": "markdown",
   "metadata": {},
   "source": [
    "As projects grow in size, it can become necessary to split the components of your module into submodules to keep your code organized.\n",
    "\n",
    "For instance, if you are building a mathematical model for your data, you generally would need functions to translate the mathematics into code, and functions to program an algorithm that will estimate that mathematical model.\n",
    "You can define these functions in two submodules, to keep your code organized by topic.\n",
    "Then, you can then create a single module that does nothing more than loading all the required submodules, so that from your application you only need to load this \"umbrella\" module to have access to all the different components you need.\n",
    "\n",
    "Of course the need for and benefit of this grows with the number of submodules.\n",
    "As we will see, large Python modules such as `matplotlib` have a large number of submodules.\n",
    "\n",
    "Whenever modules are loaded using such a nested structure, the `.` syntax to access their components changes slighlty.\n",
    "In particular, you will need to use the `.` syntax to reconstruct the path from the \"umbrella\" module (the one you load directly) all the way to the component you want to use in some submodule.\n",
    "To do this, tab-completion is very helpful.\n",
    "You can as usual also use `dir()`.\n",
    "The stylized syntax can look as follows:\n",
    "```\n",
    "<\"umbrella module\">.<specific submodule>.<specific component of the submodule>\n",
    "```\n",
    "where again parentheses might be required."
   ]
  },
  {
   "cell_type": "markdown",
   "metadata": {},
   "source": [
    "Example: define 2 submodules with 2 simple functions. Then define a module that merely loads both these submodules. `import` this \"umbrella\" module and access the 2 functions in the 2 submodules."
   ]
  },
  {
   "cell_type": "code",
   "execution_count": 7,
   "metadata": {},
   "outputs": [],
   "source": [
    "import umbrellamodule"
   ]
  },
  {
   "cell_type": "code",
   "execution_count": 8,
   "metadata": {},
   "outputs": [
    {
     "data": {
      "text/plain": [
       "['__builtins__',\n",
       " '__cached__',\n",
       " '__doc__',\n",
       " '__file__',\n",
       " '__loader__',\n",
       " '__name__',\n",
       " '__package__',\n",
       " '__spec__',\n",
       " 'submodule1',\n",
       " 'submodule2']"
      ]
     },
     "execution_count": 8,
     "metadata": {},
     "output_type": "execute_result"
    }
   ],
   "source": [
    "dir(umbrellamodule)"
   ]
  },
  {
   "cell_type": "code",
   "execution_count": 9,
   "metadata": {},
   "outputs": [
    {
     "data": {
      "text/plain": [
       "['__builtins__',\n",
       " '__cached__',\n",
       " '__doc__',\n",
       " '__file__',\n",
       " '__loader__',\n",
       " '__name__',\n",
       " '__package__',\n",
       " '__spec__',\n",
       " 'some_function']"
      ]
     },
     "execution_count": 9,
     "metadata": {},
     "output_type": "execute_result"
    }
   ],
   "source": [
    "dir(umbrellamodule.submodule1)"
   ]
  },
  {
   "cell_type": "code",
   "execution_count": 10,
   "metadata": {},
   "outputs": [
    {
     "name": "stdout",
     "output_type": "stream",
     "text": [
      "this is the function in submodule 1\n"
     ]
    }
   ],
   "source": [
    "umbrellamodule.submodule1.some_function()"
   ]
  },
  {
   "cell_type": "code",
   "execution_count": 11,
   "metadata": {},
   "outputs": [
    {
     "name": "stdout",
     "output_type": "stream",
     "text": [
      "this is the function in submodule 2\n"
     ]
    }
   ],
   "source": [
    "umbrellamodule.submodule2.some_function()"
   ]
  },
  {
   "cell_type": "markdown",
   "metadata": {},
   "source": [
    "#### Alternative ways of loading"
   ]
  },
  {
   "cell_type": "markdown",
   "metadata": {},
   "source": [
    "Using `import + <module name>` loads all the components in the module and makes them accessible using the syntax `<module name>.<...>`.\n",
    "There are two alternatives to slightly change the behavior of `import` and how to access the components.\n",
    "\n",
    "The first alternative is to define an **alias** for the module.\n",
    "An alias is an alternative name to be used to access the module's components using the `.` syntax.\n",
    "Typically, this alias will be an abreviation of the module's name.\n",
    "\n",
    "To import a module using an alias, use both the keyword `import` and the keyword `as`, as in the following stylized syntax:\n",
    "```\n",
    "import <module name> as <alias>\n",
    "```\n",
    "\n",
    "When an alias is used, the module's name cannot be used to access its components. \n",
    "The alias needs to be used throughout instead, replacing the module's name in the `.` syntax: `<alias>.<object in the module>."
   ]
  },
  {
   "cell_type": "markdown",
   "metadata": {},
   "source": [
    "Example: create `newmodule.py` with a single simple function in it. Import `newmodule` under the alias `nm`. Run the function therein."
   ]
  },
  {
   "cell_type": "code",
   "execution_count": 12,
   "metadata": {},
   "outputs": [],
   "source": [
    "import newmodule as nm"
   ]
  },
  {
   "cell_type": "code",
   "execution_count": 13,
   "metadata": {},
   "outputs": [
    {
     "name": "stdout",
     "output_type": "stream",
     "text": [
      "I am the function in newmodule.\n"
     ]
    }
   ],
   "source": [
    "nm.some_function()"
   ]
  },
  {
   "cell_type": "code",
   "execution_count": 14,
   "metadata": {},
   "outputs": [
    {
     "ename": "NameError",
     "evalue": "name 'newmodule' is not defined",
     "output_type": "error",
     "traceback": [
      "\u001b[0;31m---------------------------------------------------------------------------\u001b[0m",
      "\u001b[0;31mNameError\u001b[0m                                 Traceback (most recent call last)",
      "\u001b[0;32m<ipython-input-14-94f05d5a64cf>\u001b[0m in \u001b[0;36m<module>\u001b[0;34m\u001b[0m\n\u001b[0;32m----> 1\u001b[0;31m \u001b[0mnewmodule\u001b[0m\u001b[0;34m.\u001b[0m\u001b[0msome_function\u001b[0m\u001b[0;34m(\u001b[0m\u001b[0;34m)\u001b[0m\u001b[0;34m\u001b[0m\u001b[0;34m\u001b[0m\u001b[0m\n\u001b[0m",
      "\u001b[0;31mNameError\u001b[0m: name 'newmodule' is not defined"
     ]
    }
   ],
   "source": [
    "newmodule.some_function()"
   ]
  },
  {
   "cell_type": "markdown",
   "metadata": {},
   "source": [
    "Another option for importing is to selectively load one or more objects from a module.\n",
    "To only import some named objects from a module, use the combination of keywords `from` and `include` as in the following stylized syntax:\n",
    "```\n",
    "from <module name> import <comma-separated names of the objects to be imported>\n",
    "```\n",
    "\n",
    "Including objects selectively is obviously only recommended when a few components of the module are needed. \n",
    "Selective import makes it more convenient to work with these few named objects, by loading them to the global namespace of your application under their own name.\n",
    "This means that the objects imported using the `from` keyword can be called directly, without the `<module name>.` syntax.\n",
    "In fact, they do not support the `.` syntax."
   ]
  },
  {
   "cell_type": "markdown",
   "metadata": {},
   "source": [
    "Example: create `anothernewmodule.py` with a single simple function in it. Import the function selectively and run it."
   ]
  },
  {
   "cell_type": "code",
   "execution_count": 15,
   "metadata": {},
   "outputs": [],
   "source": [
    "from anothernewmodule import some_function"
   ]
  },
  {
   "cell_type": "code",
   "execution_count": 16,
   "metadata": {},
   "outputs": [
    {
     "ename": "NameError",
     "evalue": "name 'anothernewmodule' is not defined",
     "output_type": "error",
     "traceback": [
      "\u001b[0;31m---------------------------------------------------------------------------\u001b[0m",
      "\u001b[0;31mNameError\u001b[0m                                 Traceback (most recent call last)",
      "\u001b[0;32m<ipython-input-16-18073dfb5972>\u001b[0m in \u001b[0;36m<module>\u001b[0;34m\u001b[0m\n\u001b[0;32m----> 1\u001b[0;31m \u001b[0manothernewmodule\u001b[0m\u001b[0;34m.\u001b[0m\u001b[0msome_function\u001b[0m\u001b[0;34m(\u001b[0m\u001b[0;34m)\u001b[0m\u001b[0;34m\u001b[0m\u001b[0;34m\u001b[0m\u001b[0m\n\u001b[0m",
      "\u001b[0;31mNameError\u001b[0m: name 'anothernewmodule' is not defined"
     ]
    }
   ],
   "source": [
    "anothernewmodule.some_function()"
   ]
  },
  {
   "cell_type": "code",
   "execution_count": 17,
   "metadata": {},
   "outputs": [
    {
     "ename": "NameError",
     "evalue": "name 'anothernewmodule' is not defined",
     "output_type": "error",
     "traceback": [
      "\u001b[0;31m---------------------------------------------------------------------------\u001b[0m",
      "\u001b[0;31mNameError\u001b[0m                                 Traceback (most recent call last)",
      "\u001b[0;32m<ipython-input-17-83a062c87327>\u001b[0m in \u001b[0;36m<module>\u001b[0;34m\u001b[0m\n\u001b[0;32m----> 1\u001b[0;31m \u001b[0manothernewmodule\u001b[0m\u001b[0;34m.\u001b[0m\u001b[0msome_variable\u001b[0m\u001b[0;34m\u001b[0m\u001b[0;34m\u001b[0m\u001b[0m\n\u001b[0m",
      "\u001b[0;31mNameError\u001b[0m: name 'anothernewmodule' is not defined"
     ]
    }
   ],
   "source": [
    "anothernewmodule.some_variable"
   ]
  },
  {
   "cell_type": "code",
   "execution_count": 18,
   "metadata": {},
   "outputs": [
    {
     "name": "stdout",
     "output_type": "stream",
     "text": [
      "I am the function in anothernewmodule\n"
     ]
    }
   ],
   "source": [
    "some_function()"
   ]
  },
  {
   "cell_type": "markdown",
   "metadata": {},
   "source": [
    "You can use the `from` - `include` keywords in addition to the asterisk / star / splat `*` to import all the objects in a module under their own name in the global namespace (i.e. you do not have to access them with the `.` syntax). \n",
    "The stylized syntax is the following:\n",
    "```\n",
    "from <module name> import *\n",
    "```\n",
    "\n",
    "This is however not recommended unless you know exactly what is in the module, because you might accidentally overwrite names that are reserved by Python for other objects, thus \"breaking\" Python."
   ]
  },
  {
   "cell_type": "markdown",
   "metadata": {},
   "source": [
    "<a id=\"builtin\"></a>\n",
    "### Built-in modules"
   ]
  },
  {
   "cell_type": "markdown",
   "metadata": {},
   "source": [
    "In addition to defining and importing your own modules, the `import` functionality in Python allows you to load the function stored in the optional function packages that come with Python (the built-in modules) or with optional / third-party modules (such as the major data wrangling modules: matplotlib, numpy, pandas).\n",
    "Let's first discuss built-in modules.\n",
    "\n",
    "In addition to built-in functions, which are always available in Python, a large number of other pre-defined functions are bundled with Python distributions, but are not automatically made available. \n",
    "These functions are defined and stored in modules that come with Python, i.e. they are built-in modules, and can be loaded as usual with the `import` keyword, when and if needed.\n",
    "\n",
    "These additional modules store that are common but will not be crucial for Python to work, and require some level of specialization or sophistication of the program being written (or the programmer).\n",
    "For instance, these are functionalities that allow Python to interact with the machine (the OS or Sys modules), basic mathematical or statistical functions (the math or statistics modules), or work with specific data (like time with datetime, or strings with re)."
   ]
  },
  {
   "cell_type": "markdown",
   "metadata": {},
   "source": [
    "The list of built-in Python modules is available in the offical documentation [here](https://docs.python.org/3/py-modindex.html), or they can be listed by calling all available modules with `help('modules')` (it takes a while for this function to complete). \n",
    "The latter lists both built-in and optional modules.\n",
    "\n",
    "Once you know the name of the module you want to load, as we said you can use the standard syntax:\n",
    "```\n",
    "import <module name>\n",
    "```\n",
    "\n",
    "By convention, built-in modules are not aliased.\n",
    "\n",
    "We are only going to discuss a subset of important functions and classes in these modules, if any.\n",
    "For further details of their components, you can use `dir()` or the documentation."
   ]
  },
  {
   "cell_type": "markdown",
   "metadata": {},
   "source": [
    "<a id=\"os\"></a>\n",
    "#### OS"
   ]
  },
  {
   "cell_type": "markdown",
   "metadata": {},
   "source": [
    "The OS module provides functions to many operating system tasks from within a Python script. \n",
    "It includes functions for creating and removing a directory (folder), fetching its contents, changing and identifying the current directory, etc.\n",
    "It can be imported as follows:\n",
    "\n",
    "```python\n",
    "import os\n",
    "```"
   ]
  },
  {
   "cell_type": "markdown",
   "metadata": {},
   "source": [
    "<a id=\"sys\"></a>\n",
    "#### sys"
   ]
  },
  {
   "cell_type": "markdown",
   "metadata": {},
   "source": [
    "The sys module provides functions and variables used to manipulate different parts of the Python runtime environment (think about the options of Python).\n",
    "It can be loaded as follows:\n",
    "\n",
    "```python\n",
    "import sys\n",
    "```\n",
    "\n",
    "The most useful of these manipulations is to instruct Python to look for a module you defined and that is stored in a specific directory.\n",
    "After importing `sys`, the following syntax can be used:\n",
    "```\n",
    "sys.path.insert(0, <path to the directory where the module is stored>)\n",
    "```"
   ]
  },
  {
   "cell_type": "markdown",
   "metadata": {},
   "source": [
    "<a id=\"collection\"></a>\n",
    "#### collections"
   ]
  },
  {
   "cell_type": "markdown",
   "metadata": {},
   "source": [
    "The collections module provides alternatives to built-in data structures list, tuple and dict.\n",
    "\n",
    "The most useful is the `deque` type, which is a list that can be appended or popped both at the beginning and the end. \n",
    "It performs these operations much more efficiently than a list."
   ]
  },
  {
   "cell_type": "markdown",
   "metadata": {},
   "source": [
    "#### math"
   ]
  },
  {
   "cell_type": "markdown",
   "metadata": {},
   "source": [
    "`math` is the built-in module for basic mathematical tasks.\n",
    "It features some of the most popular mathematical functions, such as trigonometric functions, logarithmic and exponentiation functions, angle conversion functions, etc. \n",
    "It also contains useful popular mathematical constants, such as $\\pi$, defined as variables up to the maximal numer of digits you computer can support (with double precision)."
   ]
  },
  {
   "cell_type": "markdown",
   "metadata": {},
   "source": [
    "Some of the most useful functions and variables in `math` are the following.\n",
    "\n",
    "`math.exp()` take a single argument and calculates the value of Euler's number $\\mathrm e$ raise to the power of the argument that is passed, i.e. $\\mathrm e ^ {\\text{<argument>}}$.\n",
    "Alternatively, this same computation can be performed using the constant `math.e`, which stores the value of Euler's number, and the usual exponentiation operator `**`.\n",
    "\n",
    "`math.log()` and `math.log10()` take a single argument and return its natural and base-10 logarithms respectively.\n",
    "\n",
    "`math.pi` stores the constant $\\pi$.\n",
    "\n",
    "`math.ceil()` and `math.floor()` round a fractional number to its next and previous integer respectively."
   ]
  },
  {
   "cell_type": "markdown",
   "metadata": {},
   "source": [
    "The complete list of functions and variables can be consulted [here](https://www.w3schools.com/python/module_math.asp)."
   ]
  },
  {
   "cell_type": "markdown",
   "metadata": {},
   "source": [
    "Example: load the math package, floor and ceiling round a given number."
   ]
  },
  {
   "cell_type": "code",
   "execution_count": 20,
   "metadata": {},
   "outputs": [
    {
     "name": "stdout",
     "output_type": "stream",
     "text": [
      "0\n",
      "2\n"
     ]
    }
   ],
   "source": [
    "import math\n",
    "print(round(.5))\n",
    "print(round(1.5))"
   ]
  },
  {
   "cell_type": "code",
   "execution_count": 21,
   "metadata": {},
   "outputs": [
    {
     "name": "stdout",
     "output_type": "stream",
     "text": [
      "1\n",
      "2\n"
     ]
    }
   ],
   "source": [
    "print(math.floor(1.5))\n",
    "print(math.ceil(1.5))"
   ]
  },
  {
   "cell_type": "markdown",
   "metadata": {},
   "source": [
    "Example: load the math package and define a function for the Normal probability density function:\n",
    "$$ \\mathcal N(x | \\mu, \\sigma^2) = \\frac{1}{\\sqrt{2\\pi} \\sigma} \\mathrm e ^ {- \\frac{(x - \\mu)^2}{2 \\sigma^2}}$$"
   ]
  },
  {
   "cell_type": "code",
   "execution_count": 22,
   "metadata": {},
   "outputs": [],
   "source": [
    "import math\n",
    "def normal_pdf(x, mu, sigma):\n",
    "    return math.exp(- .5 * ((x - mu) / sigma) ** 2) / (sigma * (2 * math.pi) ** (1/2))"
   ]
  },
  {
   "cell_type": "code",
   "execution_count": 24,
   "metadata": {},
   "outputs": [
    {
     "data": {
      "text/plain": [
       "0.3989422804014327"
      ]
     },
     "execution_count": 24,
     "metadata": {},
     "output_type": "execute_result"
    }
   ],
   "source": [
    "normal_pdf(0, 0, 1)"
   ]
  },
  {
   "cell_type": "markdown",
   "metadata": {},
   "source": [
    "<a id=\"statistics\"></a>\n",
    "#### statistics"
   ]
  },
  {
   "cell_type": "markdown",
   "metadata": {},
   "source": [
    "`statistics` provides basic statistical functions to work with numeric data. \n",
    "Some of the most useful functions and variables in `statistics` are the following."
   ]
  },
  {
   "cell_type": "markdown",
   "metadata": {},
   "source": [
    "The most commonly used are `statistics.mean()`, `statistics.median()`, `statistics.mode()`, and `statistics.stdev()`, which take as an input a numeric data structure and return the associated summary statistic. "
   ]
  },
  {
   "cell_type": "markdown",
   "metadata": {},
   "source": [
    "The complete documentation can be consulted [here](https://docs.python.org/3/library/statistics.html)."
   ]
  },
  {
   "cell_type": "markdown",
   "metadata": {},
   "source": [
    "Example: import statistic. Create a sample of 10 numbers. Calculate the density at zero of the sample distribution, assuming it is Normal. "
   ]
  },
  {
   "cell_type": "code",
   "execution_count": 25,
   "metadata": {},
   "outputs": [
    {
     "data": {
      "text/plain": [
       "0.041702387227688674"
      ]
     },
     "execution_count": 25,
     "metadata": {},
     "output_type": "execute_result"
    }
   ],
   "source": [
    "import statistics\n",
    "sample = [1, 5, -10, -12, 4, -2, 20, -2, 9, -7]\n",
    "normal_pdf(0, statistics.mean(sample), statistics.stdev(sample))"
   ]
  },
  {
   "cell_type": "code",
   "execution_count": 27,
   "metadata": {},
   "outputs": [
    {
     "name": "stdout",
     "output_type": "stream",
     "text": [
      "0.6\n"
     ]
    }
   ],
   "source": [
    "print(statistics.mean(sample))"
   ]
  },
  {
   "cell_type": "code",
   "execution_count": 28,
   "metadata": {},
   "outputs": [
    {
     "data": {
      "text/plain": [
       "9.547541859324605"
      ]
     },
     "execution_count": 28,
     "metadata": {},
     "output_type": "execute_result"
    }
   ],
   "source": [
    "statistics.stdev(sample)"
   ]
  },
  {
   "cell_type": "markdown",
   "metadata": {},
   "source": [
    "<a id=\"random\"></a>\n",
    "#### random"
   ]
  },
  {
   "cell_type": "markdown",
   "metadata": {},
   "source": [
    "We have already used, a bit cluelessly, the built-in `random` module.\n",
    "`random` provides functions to instruct your computer to generate randomness, or more precisely random variables.\n",
    "It can be used generate a random draw from a distribution or set, to shuffle elements randomly, etc.\n",
    "It can also be used to make the computer-generated randomness replicable.\n",
    "\n",
    "A computer uses what is known as a random number generator, which needs a number to start.\n",
    "This number is called a **seed**.\n",
    "By default Python's random number generator uses the current system time as the seed.\n",
    "`random` provides a function to change the seed so that the randomness you generate becomes replicable (which is important for making your results credible).\n",
    "\n",
    "\n",
    "I consider the following the most important functions in `random`.\n",
    "\n",
    "- `random.random()` takes no argument and generates a random float between 0 and 1, i.e. a random draw from a standard uniform distribution. It is the building block of all functions that generate a draw from a distribution. In fact, you can use `random.random()` plus the inverse of the cumulative distribution function of a given distribution to sample from it.\n",
    "\n",
    "- `random.randrange()` is a function we have already used. It takes two mandatory arguments, two integers, and generates a random draw from the integers in `[<first argument>, <second argument>)`. It can be provided a third optional argument to set a step argument, so that the random only considers integers at step-distance.\n",
    "\n",
    "- `random.sample()` takes two arguments, an iterable and a sample size, and then draws elements from the iterable **without replacement** to create a sample of the desired size. Thus, the required sample size cannot exceed the length of the iterable. If the sample size is set exaclty to the length of the iterable, then the iterable is shuffled.\n",
    "\n",
    "- `random.seed()` takes one argument: the seed, i.e. the number to start the random number generator. It can be added before any other random function, so that the random numbers generated can be replicated every time you run your script."
   ]
  },
  {
   "cell_type": "markdown",
   "metadata": {},
   "source": [
    "The complete documentation can be consulted [here](https://docs.python.org/3/library/random.html)."
   ]
  },
  {
   "cell_type": "markdown",
   "metadata": {},
   "source": [
    "Example: import random and consider the list `sample` from above. Sample 3 elements from it without replacement. Shuffle it. Sample 15 elements from it with replacement. Finally check the workings of `random.seed()` by making the above replicable."
   ]
  },
  {
   "cell_type": "code",
   "execution_count": 44,
   "metadata": {},
   "outputs": [
    {
     "name": "stdout",
     "output_type": "stream",
     "text": [
      "[1, 9, -7]\n",
      "[-10, 5, 4, 1, -12, -2, -2, -7, 9, 20]\n"
     ]
    },
    {
     "data": {
      "text/plain": [
       "[[5],\n",
       " [-2],\n",
       " [1],\n",
       " [20],\n",
       " [20],\n",
       " [-7],\n",
       " [1],\n",
       " [-2],\n",
       " [4],\n",
       " [-12],\n",
       " [-7],\n",
       " [5],\n",
       " [-2],\n",
       " [1],\n",
       " [1]]"
      ]
     },
     "execution_count": 44,
     "metadata": {},
     "output_type": "execute_result"
    }
   ],
   "source": [
    "import random\n",
    "print(random.sample(sample, 3))\n",
    "random.seed(1)\n",
    "print(random.sample(sample, len(sample)))\n",
    "[ random.sample(sample, 1) for i in range(0, 15)]"
   ]
  },
  {
   "cell_type": "markdown",
   "metadata": {},
   "source": [
    "<a id=\"datetime\"></a>\n",
    "#### datetime"
   ]
  },
  {
   "cell_type": "markdown",
   "metadata": {},
   "source": [
    "When we discussed basic data types, we did not mention dates and times.\n",
    "Python however ships with the machinery required for dealing with this specific type of data.\n",
    "To load this machinery, we need to import the built-in `datetime` module.\n",
    "\n",
    "The following are the central functions of `datetime`. Since the module `datetime` contains submodules, more elaborate `.` syntax is required to access the following functions after you run `import datetime`. Alternatively, one could use the `from + import` syntax.\n",
    "\n",
    "- `datetime.datetime.now()` returns the current date and time as `year`, `month`, `day`, `hour`, `minute`, `second` (accurate to several fractional digits)."
   ]
  },
  {
   "cell_type": "code",
   "execution_count": 1,
   "metadata": {},
   "outputs": [],
   "source": [
    "import datetime"
   ]
  },
  {
   "cell_type": "code",
   "execution_count": 2,
   "metadata": {},
   "outputs": [
    {
     "data": {
      "text/plain": [
       "datetime.datetime(2021, 10, 7, 12, 36, 23, 598225)"
      ]
     },
     "execution_count": 2,
     "metadata": {},
     "output_type": "execute_result"
    }
   ],
   "source": [
    "datetime.datetime.now()"
   ]
  },
  {
   "cell_type": "code",
   "execution_count": 3,
   "metadata": {},
   "outputs": [
    {
     "name": "stdout",
     "output_type": "stream",
     "text": [
      "2021-10-07 12:37:33.186021\n"
     ]
    }
   ],
   "source": [
    "now = datetime.datetime.now()\n",
    "print(now)"
   ]
  },
  {
   "cell_type": "code",
   "execution_count": 4,
   "metadata": {},
   "outputs": [
    {
     "data": {
      "text/plain": [
       "datetime.datetime(2021, 10, 7, 12, 37, 33, 186021)"
      ]
     },
     "execution_count": 4,
     "metadata": {},
     "output_type": "execute_result"
    }
   ],
   "source": [
    "now"
   ]
  },
  {
   "cell_type": "markdown",
   "metadata": {},
   "source": [
    "- `datetime.datetime()` can be used to create a date. It takes three mandatory arguments: year, month, and day. As optional arguments is can take the following: `hour`, `minute`, `second`, `microsecond`, `tzone`. `tzone` allows to specify the time zone and it is defaulted to `None`. All the other optional arguments are defaulted to `0` or `None`."
   ]
  },
  {
   "cell_type": "code",
   "execution_count": 5,
   "metadata": {},
   "outputs": [
    {
     "data": {
      "text/plain": [
       "datetime.datetime(2021, 10, 7, 0, 0)"
      ]
     },
     "execution_count": 5,
     "metadata": {},
     "output_type": "execute_result"
    }
   ],
   "source": [
    "dt_today = datetime.datetime(2021, 10, 7)\n",
    "dt_today"
   ]
  },
  {
   "cell_type": "code",
   "execution_count": 6,
   "metadata": {},
   "outputs": [
    {
     "name": "stdout",
     "output_type": "stream",
     "text": [
      "2021-10-07 00:00:00\n"
     ]
    }
   ],
   "source": [
    "print(dt_today)"
   ]
  },
  {
   "cell_type": "markdown",
   "metadata": {},
   "source": [
    "- `datetime.strptime()` and `datetime.strftime()` can be used to convert strings to datetime objects and vice versa respectively. These exist also as methods of any datetime object. \n",
    "\n",
    "    - `datetime.strptime()` takes two arguments. The first is a string containing a date and time, e.g. `'20090511 19:11'`. The second is a string describing the format of the date and time in the string, using the legal format codes for dates and time (see table below). In the example, `'%Y%m%d %H:%M'`. It returns a datetime object with all the information available in the string.\n",
    "    \n",
    "    - `datetime.strftime()` also takes two arguments. The first is a datetime object. The second is the desired format of the string to be produced, again to be passed as a string following the legal format codes. It returns a formatted string.\n",
    "\n",
    "The legal format codes for date and time are the following:\n",
    "<div align=\"center\">\n",
    "        <img src=\"LFC.png\" alt=\"LFC\" width=\"800\"/>\n",
    "</div>\n",
    "\n"
   ]
  },
  {
   "cell_type": "markdown",
   "metadata": {},
   "source": [
    "Example: convert '210101 3:32PM' to a datetime object. Print that object as 'Friday January 2021, 01 - 3:32 PM'."
   ]
  },
  {
   "cell_type": "code",
   "execution_count": 7,
   "metadata": {},
   "outputs": [
    {
     "name": "stdout",
     "output_type": "stream",
     "text": [
      "2021-01-01 15:32:00\n"
     ]
    }
   ],
   "source": [
    "dt = datetime.datetime.strptime('210101 3:32PM', '%y%m%d %I:%M%p')\n",
    "print(dt)"
   ]
  },
  {
   "cell_type": "code",
   "execution_count": 8,
   "metadata": {},
   "outputs": [
    {
     "data": {
      "text/plain": [
       "datetime.datetime(2021, 1, 1, 15, 32)"
      ]
     },
     "execution_count": 8,
     "metadata": {},
     "output_type": "execute_result"
    }
   ],
   "source": [
    "dt"
   ]
  },
  {
   "cell_type": "code",
   "execution_count": 10,
   "metadata": {},
   "outputs": [
    {
     "data": {
      "text/plain": [
       "'Friday January 2021, 01 - 03:32 PM'"
      ]
     },
     "execution_count": 10,
     "metadata": {},
     "output_type": "execute_result"
    }
   ],
   "source": [
    "dt.strftime('%A %B %Y, %d - %I:%M %p')"
   ]
  },
  {
   "cell_type": "markdown",
   "metadata": {},
   "source": [
    "`datetime` objects have useful methods.\n",
    "In addition to those mentioned above, they feature methods `date()` and `time()` to only access the associated part of a datetime object."
   ]
  },
  {
   "cell_type": "code",
   "execution_count": 11,
   "metadata": {},
   "outputs": [
    {
     "name": "stdout",
     "output_type": "stream",
     "text": [
      "2021-01-01\n",
      "15:32:00\n"
     ]
    }
   ],
   "source": [
    "print(dt.date())\n",
    "print(dt.time())"
   ]
  },
  {
   "cell_type": "markdown",
   "metadata": {},
   "source": [
    "Another useful method is `replace()`.\n",
    "It allows to temporarily alter the information about date or time. \n",
    "`replace()` does not performe in-place modification of the object, so you need to redefine it to update some information.\n",
    "Use keyword arguments to pass only the change you wish to make. "
   ]
  },
  {
   "cell_type": "code",
   "execution_count": 12,
   "metadata": {},
   "outputs": [
    {
     "data": {
      "text/plain": [
       "datetime.datetime(2021, 1, 1, 15, 32)"
      ]
     },
     "execution_count": 12,
     "metadata": {},
     "output_type": "execute_result"
    }
   ],
   "source": [
    "dt"
   ]
  },
  {
   "cell_type": "code",
   "execution_count": 13,
   "metadata": {},
   "outputs": [
    {
     "name": "stdout",
     "output_type": "stream",
     "text": [
      "2021-01-01 15:32:00\n"
     ]
    }
   ],
   "source": [
    "dt.replace(year = 2020)\n",
    "print(dt)"
   ]
  },
  {
   "cell_type": "code",
   "execution_count": 14,
   "metadata": {},
   "outputs": [
    {
     "name": "stdout",
     "output_type": "stream",
     "text": [
      "2020-01-01 15:32:00\n"
     ]
    }
   ],
   "source": [
    "print(dt.replace(year = 2020))"
   ]
  },
  {
   "cell_type": "code",
   "execution_count": 15,
   "metadata": {},
   "outputs": [
    {
     "name": "stdout",
     "output_type": "stream",
     "text": [
      "2020-01-01 15:32:00\n"
     ]
    }
   ],
   "source": [
    "dt = dt.replace(year = 2020)\n",
    "print(dt)"
   ]
  },
  {
   "cell_type": "markdown",
   "metadata": {},
   "source": [
    "#### time"
   ]
  },
  {
   "cell_type": "markdown",
   "metadata": {},
   "source": [
    "This module provides various time-related functions. \n",
    "The only function I wish to mention is the `sleep(<number of seconds>)` function, which allows you to instruct Python to wait a user-specified number of seconds before continuing with the execution of a script."
   ]
  },
  {
   "cell_type": "code",
   "execution_count": 16,
   "metadata": {},
   "outputs": [],
   "source": [
    "from time import sleep"
   ]
  },
  {
   "cell_type": "code",
   "execution_count": 18,
   "metadata": {},
   "outputs": [
    {
     "name": "stdout",
     "output_type": "stream",
     "text": [
      "0\n",
      "1\n",
      "2\n",
      "3\n",
      "4\n",
      "5\n",
      "6\n",
      "7\n",
      "8\n",
      "9\n"
     ]
    }
   ],
   "source": [
    "for i in range(0,10):\n",
    "    print(i)\n",
    "    sleep(1)"
   ]
  },
  {
   "cell_type": "markdown",
   "metadata": {},
   "source": [
    "#### re"
   ]
  },
  {
   "cell_type": "markdown",
   "metadata": {},
   "source": [
    "We have mentioned how Python is extremely powerful for dealing with string data.\n",
    "Part of Python's functionalities for manipulating and analyzing string data are relegated to the built-in `re` module, standing for Regular Expressions.\n",
    "A regular expression, also called \"regex\", is a special sequence of characters (somewhat similarly to legal format codes) that forms a search pattern.\n",
    "\n",
    "I here simply want to mention this module amongst the built-in ones.\n",
    "Its use will be discussed in the chapter on string manipulation."
   ]
  }
 ],
 "metadata": {
  "kernelspec": {
   "display_name": "Python 3",
   "language": "python",
   "name": "python3"
  },
  "language_info": {
   "codemirror_mode": {
    "name": "ipython",
    "version": 3
   },
   "file_extension": ".py",
   "mimetype": "text/x-python",
   "name": "python",
   "nbconvert_exporter": "python",
   "pygments_lexer": "ipython3",
   "version": "3.8.5"
  }
 },
 "nbformat": 4,
 "nbformat_minor": 5
}
